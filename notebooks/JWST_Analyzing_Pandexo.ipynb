{
 "cells": [
  {
   "cell_type": "code",
   "execution_count": 1,
   "metadata": {
    "collapsed": true
   },
   "outputs": [],
   "source": [
    "import warnings\n",
    "warnings.filterwarnings('ignore')\n",
    "import pandexo.engine.justplotit as jpi\n",
    "import pickle as pk"
   ]
  },
  {
   "cell_type": "markdown",
   "metadata": {},
   "source": [
    "## Plot 1D Data with Errorbars \n",
    "\n",
    "### Multiple plotting options exist within jwst_1d_spec \n",
    "\n",
    "    1. Plot a single run"
   ]
  },
  {
   "cell_type": "code",
   "execution_count": 4,
   "metadata": {},
   "outputs": [],
   "source": [
    "#load in output from run\n",
    "out = pk.load(open('singlerun.p','rb'))\n",
    "#for a single run \n",
    "x,y, e = jpi.jwst_1d_spec(out, R=100, num_tran=1, model=False, x_range=[1,12])"
   ]
  },
  {
   "cell_type": "markdown",
   "metadata": {},
   "source": [
    "    2. Plot several runs from parameters space run "
   ]
  },
  {
   "cell_type": "code",
   "execution_count": 3,
   "metadata": {
    "collapsed": true
   },
   "outputs": [],
   "source": [
    "#load in output from multiple runs\n",
    "multi = pk.load(open('three_nirspec_modes.p','r'))\n",
    "\n",
    "#get into list format \n",
    "list_multi = [multi[0]['NIRSpec G140M'], multi[1]['NIRSpec G235M'], multi[2]['NIRSpec G395M']]\n",
    "\n",
    "x,y,e = jpi.jwst_1d_spec(list_multi, R=100, model=False, x_range=[1,5])"
   ]
  },
  {
   "cell_type": "markdown",
   "metadata": {},
   "source": [
    "## Plot Noise \n",
    "\n",
    "Several functions exist to plot various outputs. \n",
    "\n",
    "See **jwst_1d_bkg**, **jwst_1d_snr**, **jwst_1d_flux**, "
   ]
  },
  {
   "cell_type": "code",
   "execution_count": null,
   "metadata": {},
   "outputs": [],
   "source": [
    "x,y = jpi.jwst_noise(out)"
   ]
  },
  {
   "cell_type": "markdown",
   "metadata": {},
   "source": [
    "## Plot 2D Saturation Profile\n",
    "\n",
    "See also **jwst_2d_sat** to plot saturation profile"
   ]
  },
  {
   "cell_type": "code",
   "execution_count": null,
   "metadata": {
    "collapsed": true
   },
   "outputs": [],
   "source": [
    "data = jpi.jwst_2d_det(out)"
   ]
  },
  {
   "cell_type": "code",
   "execution_count": null,
   "metadata": {
    "collapsed": true
   },
   "outputs": [],
   "source": []
  }
 ],
 "metadata": {
  "kernelspec": {
   "display_name": "Python 3",
   "language": "python",
   "name": "python3"
  },
  "language_info": {
   "codemirror_mode": {
    "name": "ipython",
    "version": 3
   },
   "file_extension": ".py",
   "mimetype": "text/x-python",
   "name": "python",
   "nbconvert_exporter": "python",
   "pygments_lexer": "ipython3",
   "version": "3.6.1"
  }
 },
 "nbformat": 4,
 "nbformat_minor": 1
}
