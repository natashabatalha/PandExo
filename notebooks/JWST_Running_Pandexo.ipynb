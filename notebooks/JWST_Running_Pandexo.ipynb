{
 "cells": [
  {
   "cell_type": "code",
   "execution_count": 2,
   "metadata": {},
   "outputs": [],
   "source": [
    "import warnings\n",
    "warnings.filterwarnings('ignore')\n",
    "import pandexo.engine.justdoit as jdi # THIS IS THE HOLY GRAIL OF PANDEXO\n",
    "import numpy as np\n",
    "import os"
   ]
  },
  {
   "cell_type": "markdown",
   "metadata": {},
   "source": [
    "## Editting Inputs\n",
    "\n",
    "### Step 1) Load in a blank exoplanet dictionary\n",
    "\n",
    "To start, load in a blank exoplanet dictionary with empty keys. You will fill these out for yourself in the next step. "
   ]
  },
  {
   "cell_type": "code",
   "execution_count": 5,
   "metadata": {},
   "outputs": [
    {
     "name": "stdout",
     "output_type": "stream",
     "text": [
      "Angs,um,nm,Hz,sec,cm\n"
     ]
    }
   ],
   "source": [
    "exo_dict = jdi.load_exo_dict()\n",
    "print(exo_dict['star']['w_unit'])"
   ]
  },
  {
   "cell_type": "markdown",
   "metadata": {},
   "source": [
    "#### Edit exoplanet observation inputs\n",
    "Editting each keys are annoying. But, do this carefully or it could result in nonsense runs"
   ]
  },
  {
   "cell_type": "code",
   "execution_count": 6,
   "metadata": {},
   "outputs": [],
   "source": [
    "exo_dict['observation']['sat_level'] = 80    #saturation level in percent of full well \n",
    "exo_dict['observation']['noccultations'] = 2 #number of transits \n",
    "exo_dict['observation']['R'] = None          #fixed binning. I usually suggest ZERO binning.. you can always bin later \n",
    "                                             #without having to redo the calcualtion\n",
    "exo_dict['observation']['fraction'] = 1.0    #fraction of time in transit versus out = in/out\n",
    "exo_dict['observation']['noise_floor'] = 0   #this can be a fixed level or it can be a filepath \n",
    "                                             #to a wavelength dependent noise floor solution (units are ppm)"
   ]
  },
  {
   "cell_type": "markdown",
   "metadata": {},
   "source": [
    "#### Edit exoplanet star inputs\n",
    "Note... If you select 'phoenix' you **do not** have to provide a starpath, w_unit or f_unit, but you **do** have to provide a temp, metal and logg. If you select 'user' you **do not** need to provide a temp, metal and logg, but you **do** need to provide units and starpath. "
   ]
  },
  {
   "cell_type": "code",
   "execution_count": 7,
   "metadata": {
    "collapsed": true
   },
   "outputs": [],
   "source": [
    "exo_dict['star']['type'] = 'phoenix'        #phoenix or user (if you have your own)\n",
    "exo_dict['star']['mag'] = 8.0               #magnitude of the system\n",
    "exo_dict['star']['ref_wave'] = 1.25         #For J mag = 1.25, H = 1.6, K =2.22.. etc (all in micron)\n",
    "exo_dict['star']['temp'] = 5500             #in K \n",
    "exo_dict['star']['metal'] = 0.0             # as log Fe/H\n",
    "exo_dict['star']['logg'] = 4.0              #log surface gravity cgs"
   ]
  },
  {
   "cell_type": "markdown",
   "metadata": {},
   "source": [
    "#### Edit exoplanet planet inputs"
   ]
  },
  {
   "cell_type": "code",
   "execution_count": 8,
   "metadata": {
    "collapsed": true
   },
   "outputs": [],
   "source": [
    "exo_dict['planet']['exopath'] = 'wasp12b.txt'\n",
    "exo_dict['planet']['w_unit'] = 'cm'                      #other options include \"um\",\"nm\" ,\"Angs\", \"secs\" (for phase curves)\n",
    "exo_dict['planet']['f_unit'] = 'rp^2/r*^2'               #other options are 'fp/f*' \n",
    "exo_dict['planet']['transit_duration'] = 2.0*60.0*60.0   #transit duration in seconds"
   ]
  },
  {
   "cell_type": "markdown",
   "metadata": {},
   "source": [
    "### Step 2) Load in instrument dictionary (OPTIONAL)\n",
    " \n",
    "Step 2 is optional because PandExo has the functionality to automatically load in instrument dictionaries. Skip this if you plan on observing with one of the following and want to use the subarray with the smallest frame time and the readout mode with 1 frame/1 group (standard): \n",
    "- NIRCam F444W\n",
    "- NIRSpec Prism\n",
    "- NIRSpec G395M\n",
    "- NIRSpec G395H\n",
    "- NIRSpec G235H\n",
    "- NIRSpec G235M\n",
    "- NIRCam F322W\n",
    "- NIRSpec G140M\n",
    "- NIRSpec G140H\n",
    "- MIRI LRS\n",
    "- NIRISS SOSS"
   ]
  },
  {
   "cell_type": "code",
   "execution_count": 9,
   "metadata": {},
   "outputs": [
    {
     "name": "stdout",
     "output_type": "stream",
     "text": [
      "Choose from the following:\n",
      "['NIRCam F444W', 'NIRSpec Prism', 'NIRSpec G395M', 'NIRCam F322W2', 'NIRSpec G395H', 'NIRSpec G235H', 'NIRSpec G235M', 'NIRSpec G140M', 'NIRSpec G140H', 'MIRI LRS', 'WFC3 G141', 'NIRISS SOSS']\n"
     ]
    }
   ],
   "source": [
    "jdi.print_instruments()"
   ]
  },
  {
   "cell_type": "code",
   "execution_count": null,
   "metadata": {},
   "outputs": [],
   "source": [
    "inst_dict = jdi.load_mode_dict('MIRI LRS')\n",
    "\n",
    "#loading in instrument dictionaries allow you to personalize some of  \n",
    "#the fields that are predefined in the templates. The templates have \n",
    "#the subbarays with the lowest frame times and the readmodes with 1 frame per group. \n",
    "#if that is not what you want. change these fields\n",
    "\n",
    "inst_dict[\"configuration\"][\"detector\"][\"ngroup\"] = 'optimize'   #running \"optimize\" will select the maximum \n",
    "                                                                #possible groups before saturation. \n",
    "                                                                #You can also write in any integer between 2-65536\n",
    "\n",
    "inst_dict[\"configuration\"][\"detector\"][\"subarray\"] = 'sub512'   #change the subbaray\n",
    "inst_dict[\"configuration\"][\"detector\"][\"readmode\"] = 'nrs'      #change the readout pattern\n"
   ]
  },
  {
   "cell_type": "markdown",
   "metadata": {},
   "source": [
    "## Running PandExo\n",
    "\n",
    "You have **four options** for running PandExo. All of them are accessed through attribute **jdi.run_pandexo**. See examples below. \n",
    "\n",
    "`    jdi.run_pandexo(exo, inst, param_space = 0, param_range = 0,save_file = True,\n",
    "                            output_path=os.getcwd(), output_file = '')`\n",
    "\n"
   ]
  },
  {
   "cell_type": "markdown",
   "metadata": {},
   "source": [
    "### Option 1- Run single instrument mode, single planet\n",
    "If you forget which instruments are available run **jdi.print_isntruments()** and pick one "
   ]
  },
  {
   "cell_type": "code",
   "execution_count": 10,
   "metadata": {},
   "outputs": [
    {
     "name": "stdout",
     "output_type": "stream",
     "text": [
      "Choose from the following:\n",
      "['NIRCam F444W', 'NIRSpec Prism', 'NIRSpec G395M', 'NIRCam F322W2', 'NIRSpec G395H', 'NIRSpec G235H', 'NIRSpec G235M', 'NIRSpec G140M', 'NIRSpec G140H', 'MIRI LRS', 'WFC3 G141', 'NIRISS SOSS']\n"
     ]
    }
   ],
   "source": [
    "jdi.print_instruments()"
   ]
  },
  {
   "cell_type": "code",
   "execution_count": 11,
   "metadata": {},
   "outputs": [
    {
     "name": "stdout",
     "output_type": "stream",
     "text": [
      "Running Single Case for: NIRCam F322W2\n",
      "Optimization Reqested: Computing Duty Cycle\n",
      "Finished Duty Cycle Calc\n",
      "Starting Out of Transit Simulation\n",
      "End out of Transit\n",
      "Starting In Transit Simulation\n",
      "End In Transit\n"
     ]
    }
   ],
   "source": [
    "result = jdi.run_pandexo(exo_dict,['NIRCam F322W2'])"
   ]
  },
  {
   "cell_type": "markdown",
   "metadata": {},
   "source": [
    "### Option 2- Run single instrument mode (with user dict), single planet\n",
    "This is the same thing as option 1 but instead of feeding it a list of keys, you can feed it a instrument dictionary (this is for users who wanted to simulate something NOT pre defined within pandexo)"
   ]
  },
  {
   "cell_type": "code",
   "execution_count": null,
   "metadata": {},
   "outputs": [],
   "source": [
    "inst_dict = jdi.load_mode_dict('NIRSpec G140H')\n",
    "#personalize subarray\n",
    "inst_dict[\"configuration\"][\"detector\"][\"subarray\"] = 'sub2048'\n",
    "result = jdi.run_pandexo(exo_dict, inst_dict)"
   ]
  },
  {
   "cell_type": "markdown",
   "metadata": {},
   "source": [
    "### Option 3- Run several modes, single planet\n",
    "Use several modes from **print_isntruments()** options. "
   ]
  },
  {
   "cell_type": "code",
   "execution_count": 12,
   "metadata": {},
   "outputs": [
    {
     "name": "stdout",
     "output_type": "stream",
     "text": [
      "Running select instruments\n",
      "Optimization Reqested: Computing Duty Cycle\n",
      "Optimization Reqested: Computing Duty Cycle\n",
      "Optimization Reqested: Computing Duty Cycle\n",
      "Finished Duty Cycle Calc\n",
      "Starting Out of Transit Simulation\n",
      "Finished Duty Cycle Calc\n",
      "Starting Out of Transit Simulation\n",
      "Finished Duty Cycle Calc\n",
      "Starting Out of Transit Simulation\n",
      "End out of Transit\n",
      "Starting In Transit Simulation\n",
      "End In Transit\n",
      "End out of Transit\n",
      "Starting In Transit Simulation\n",
      "End In Transit\n",
      "End out of Transit\n",
      "Starting In Transit Simulation\n",
      "End In Transit\n"
     ]
    }
   ],
   "source": [
    "#choose select \n",
    "result = jdi.run_pandexo(exo_dict,['NIRSpec G140M','NIRSpec G235M','NIRSpec G395M'],\n",
    "               output_file='three_nirspec_modes.p')\n",
    "#run all \n",
    "#result = jdi.run_pandexo(exo_dict, ['RUN ALL'], save_file = False)"
   ]
  },
  {
   "cell_type": "markdown",
   "metadata": {},
   "source": [
    "### Option 4- Run single mode, several planet cases\n",
    "Use a single modes from **print_isntruments()** options. But explore parameter space with respect to **any** parameter in the exo dict. The example below shows how to loop over several planet models\n",
    "\n",
    "You can loop through anything in the exoplanet dictionary. It will be planet, star or observation followed by whatever you want to loop through in that set. \n",
    "\n",
    "i.e. planet+exopath, star+temp, star+metal, star+logg, observation+sat_level.. etc"
   ]
  },
  {
   "cell_type": "code",
   "execution_count": null,
   "metadata": {},
   "outputs": [],
   "source": [
    "#looping over different exoplanet models \n",
    "jdi.run_pandexo(exo_dict, ['NIRCam F444W'], param_space = 'planet+exopath',\n",
    "                param_range = os.listdir('/Users/nbatalha1/Desktop/all_my_models_here'),\n",
    "               output_path = '/Users/nbatalh1/Desktop/JWSTFUN')\n",
    "\n",
    "#looping over different stellar temperatures \n",
    "jdi.run_pandexo(exo_dict, ['NIRCam F444W'], param_space = 'star+temp',\n",
    "                param_range = np.linspace(5000,8000,2),\n",
    "               output_path = '/Users/nbatalh1/Desktop/JWSTFUN')\n",
    "\n",
    "#looping over different saturation levels\n",
    "jdi.run_pandexo(exo_dict, ['NIRCam F444W'], param_space = 'observation+sat_level',\n",
    "                param_range = np.linspace(.5,1,5),\n",
    "               output_path = '/Users/nbatalh1/Desktop/JWSTFUN')\n"
   ]
  },
  {
   "cell_type": "code",
   "execution_count": null,
   "metadata": {
    "collapsed": true
   },
   "outputs": [],
   "source": []
  }
 ],
 "metadata": {
  "kernelspec": {
   "display_name": "Python 3",
   "language": "python",
   "name": "python3"
  },
  "language_info": {
   "codemirror_mode": {
    "name": "ipython",
    "version": 3
   },
   "file_extension": ".py",
   "mimetype": "text/x-python",
   "name": "python",
   "nbconvert_exporter": "python",
   "pygments_lexer": "ipython3",
   "version": "3.6.1"
  }
 },
 "nbformat": 4,
 "nbformat_minor": 1
}
